{
 "cells": [
  {
   "cell_type": "code",
   "execution_count": null,
   "id": "0c765f7d",
   "metadata": {},
   "outputs": [],
   "source": [
    "import blob_detection as bd\n",
    "\n",
    "bd.clear_image(\"test.tif\")\n",
    "bd.detect_text(\"cleared-test.tif\")"
   ]
  },
  {
   "cell_type": "code",
   "execution_count": null,
   "id": "19b3ea3c",
   "metadata": {},
   "outputs": [],
   "source": [
    "import hough_transform as ht\n",
    "\n",
    "ht.detect_lines(\"cleared-test.tif\")"
   ]
  },
  {
   "cell_type": "code",
   "execution_count": null,
   "id": "ac3d9cc3",
   "metadata": {},
   "outputs": [],
   "source": []
  }
 ],
 "metadata": {
  "kernelspec": {
   "display_name": "Python 3 (ipykernel)",
   "language": "python",
   "name": "python3"
  },
  "language_info": {
   "codemirror_mode": {
    "name": "ipython",
    "version": 3
   },
   "file_extension": ".py",
   "mimetype": "text/x-python",
   "name": "python",
   "nbconvert_exporter": "python",
   "pygments_lexer": "ipython3",
   "version": "3.9.5"
  }
 },
 "nbformat": 4,
 "nbformat_minor": 5
}
